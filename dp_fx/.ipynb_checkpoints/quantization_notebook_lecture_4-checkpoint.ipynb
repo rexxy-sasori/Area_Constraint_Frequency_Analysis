{
 "cells": [
  {
   "cell_type": "code",
   "execution_count": 1,
   "metadata": {
    "collapsed": true
   },
   "outputs": [],
   "source": [
    "import numpy as np\n",
    "import matplotlib as mpl\n",
    "import matplotlib.pyplot as plt"
   ]
  },
  {
   "cell_type": "code",
   "execution_count": 2,
   "metadata": {
    "collapsed": true
   },
   "outputs": [],
   "source": [
    "def quantizeWeight(W,BW):\n",
    "    Wq = np.minimum(np.round(W*np.power(2.0,BW-1.0))*np.power(2.0,1.0-BW),1.0-np.power(2.0,1.0-BW))\n",
    "    return Wq\n",
    "\n",
    "def quantizeInput(X,BX):\n",
    "    return np.minimum(np.round(X*np.power(2.0,BX))*np.power(2.0,-BX) ,1.0-np.power(2.0,-BX))\n",
    "\n"
   ]
  },
  {
   "cell_type": "code",
   "execution_count": 3,
   "metadata": {},
   "outputs": [
    {
     "name": "stdout",
     "output_type": "stream",
     "text": [
      "0.22265625\n"
     ]
    }
   ],
   "source": [
    "#print(quantizeWeight(-0.4344,3))\n",
    "print(quantizeInput(0.22222,10))"
   ]
  },
  {
   "cell_type": "code",
   "execution_count": 4,
   "metadata": {
    "collapsed": true
   },
   "outputs": [],
   "source": [
    "def generate_random_data(Nsample,NDP=128):\n",
    "    X = np.random.uniform(0,1,(NDP,Nsample))\n",
    "    W = np.random.uniform(-1,1,(NDP,Nsample))\n",
    "    muX = np.mean(X)\n",
    "    varX = np.var(X)\n",
    "    muW = np.mean(W)\n",
    "    varW = np.var(W)\n",
    "    return X,W,muX,muW,varX,varW\n",
    "\n",
    "def estimate_sqnr(NDP, BX, BW, muX, muW, varX, varW):\n",
    "    x_rms2 = muX**2 + varX\n",
    "    deltaW = np.power(2.0,1-BW)\n",
    "    deltaX = np.power(2.0,-BX)\n",
    "    \n",
    "    sig2_y = NDP*x_rms2*varW\n",
    "    sig2_qx2y = NDP*varW*np.square(deltaX)/12.0\n",
    "    sig2_qw2y = NDP*x_rms2*np.square(deltaW)/12.0\n",
    "    \n",
    "    SNR = 10*np.log10(sig2_y/(sig2_qx2y+sig2_qw2y))\n",
    "    return SNR\n",
    "\n",
    "def evaluate_sqnr(X,W,BX,BW):\n",
    "    Yt = np.sum(X*W,axis=0)\n",
    "    Yq = np.sum(quantizeInput(X,BX)*quantizeWeight(W,BW),axis=0)\n",
    "    SNR = 10*np.log10(np.true_divide(np.sum(np.var(Yt)),np.sum(np.var(Yt-Yq))))\n",
    "    return SNR"
   ]
  },
  {
   "cell_type": "code",
   "execution_count": 5,
   "metadata": {},
   "outputs": [
    {
     "name": "stdout",
     "output_type": "stream",
     "text": [
      "Predicted SQNR = 29.845892\n",
      "Simulated SQNR = 29.522562\n"
     ]
    }
   ],
   "source": [
    "Nsample = 10000\n",
    "NDP = 128\n",
    "BX = 6\n",
    "BW = 5\n",
    "X,W,muX,muW,varX,varW = generate_random_data(Nsample,NDP)\n",
    "print('Predicted SQNR = %f' %estimate_sqnr(NDP,BX,BW,muX,muW,varX,varW))\n",
    "print('Simulated SQNR = %f' %evaluate_sqnr(X,W,BX,BW))"
   ]
  },
  {
   "cell_type": "code",
   "execution_count": 6,
   "metadata": {},
   "outputs": [
    {
     "data": {
      "image/png": "[encoded data removed]",
      "text/plain": [
       "<matplotlib.figure.Figure at 0x7f0e1c5dde10>"
      ]
     },
     "metadata": {},
     "output_type": "display_data"
    }
   ],
   "source": [
    "BWs = []\n",
    "SQNR_predict = []\n",
    "SQNR_eval = []\n",
    "X,W,muX,muW,varX,varW = generate_random_data(Nsample,NDP)\n",
    "for BW in range(1,20):\n",
    "    BWs.append(BW)\n",
    "    SQNR_predict.append(estimate_sqnr(NDP,BX,BW,muX,muW,varX,varW))\n",
    "    SQNR_eval.append(evaluate_sqnr(X,W,BX,BW))\n",
    "fig,ax=plt.subplots()\n",
    "line1, = ax.plot(BWs,SQNR_predict,label='Prediction',linewidth=2,color='b',marker='o',markersize=10)\n",
    "line2, = ax.plot(BWs,SQNR_eval,label='Simulation',linewidth=2,color='r',marker='s',markersize=10)\n",
    "plt.legend(handles=[line1,line2],loc=0,fontsize=20)\n",
    "ax.grid()\n",
    "ax.set_xlabel(r'$B_W$ (bits)',fontsize=20)\n",
    "ax.set_ylabel('SQNR (dB)',fontsize=20)\n",
    "ax.tick_params(axis='both',labelsize=15)\n",
    "ax.set_xticks(np.arange(1,20,2))\n",
    "plt.show()"
   ]
  },
  {
   "cell_type": "code",
   "execution_count": null,
   "metadata": {
    "collapsed": true
   },
   "outputs": [],
   "source": []
  }
 ],
 "metadata": {
  "kernelspec": {
   "display_name": "Python 2",
   "language": "python",
   "name": "python2"
  },
  "language_info": {
   "codemirror_mode": {
    "name": "ipython",
    "version": 2
   },
   "file_extension": ".py",
   "mimetype": "text/x-python",
   "name": "python",
   "nbconvert_exporter": "python",
   "pygments_lexer": "ipython2",
   "version": "2.7.13"
  }
 },
 "nbformat": 4,
 "nbformat_minor": 2
}
