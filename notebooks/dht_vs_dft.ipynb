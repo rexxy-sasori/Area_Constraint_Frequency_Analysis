{
 "cells": [
  {
   "cell_type": "code",
   "execution_count": null,
   "metadata": {},
   "outputs": [],
   "source": [
    "import numpy as np\n",
    "import matplotlib.pyplot as plt"
   ]
  },
  {
   "cell_type": "code",
   "execution_count": null,
   "metadata": {
    "pycharm": {
     "name": "#%%\n"
    }
   },
   "outputs": [],
   "source": [
    "fs = 55\n",
    "block_size = 16\n",
    "nfft = 16\n",
    "num_sample = 1600\n",
    "hop_size = 16\n",
    "freq = 11\n",
    "phase = 0\n",
    "t = np.arange(num_sample)/fs\n",
    "f = np.fft.fftfreq(block_size,1/fs )\n",
    "cs = np.cos(2*np.pi*20*t+phase) \n",
    "noise = np.random.normal(0,1.5,num_sample) \n",
    "s = cs+0"
   ]
  },
  {
   "cell_type": "code",
   "execution_count": null,
   "metadata": {},
   "outputs": [],
   "source": [
    "plt.figure(figsize=(20,10))\n",
    "plt.plot(t,s)\n",
    "plt.tick_params('both',labelsize=25)\n",
    "plt.grid()\n",
    "plt.xlabel('time(s)', fontsize=25)\n",
    "plt.ylabel('rider', fontsize=25)\n"
   ]
  },
  {
   "cell_type": "code",
   "execution_count": null,
   "metadata": {
    "pycharm": {
     "name": "#%%\n"
    }
   },
   "outputs": [],
   "source": [
    "s_reshape = np.array([\n",
    "    s[hop_size*i:hop_size*i+block_size] for i in range(num_sample) if hop_size*i+block_size<=num_sample\n",
    "])"
   ]
  },
  {
   "cell_type": "code",
   "execution_count": null,
   "metadata": {
    "pycharm": {
     "name": "#%%\n"
    }
   },
   "outputs": [],
   "source": [
    "dft = np.fft.fft(s_reshape,axis=1)\n",
    "dht = np.real(dft)-np.imag(dft)\n",
    "\n",
    "psd_dft = (1/block_size*np.abs(dft)**2).mean(0)\n",
    "psd_dht = (1/block_size*np.abs(dht)**2).mean(0)"
   ]
  },
  {
   "cell_type": "code",
   "execution_count": null,
   "metadata": {
    "pycharm": {
     "name": "#%%\n"
    }
   },
   "outputs": [],
   "source": [
    "plt.figure(figsize=(20,10))\n",
    "plt.plot(psd_dft,label='dft')\n",
    "plt.plot(psd_dht,label='dht')\n",
    "plt.tick_params('both',labelsize=25)\n",
    "plt.grid()\n",
    "plt.legend(fontsize=25)\n"
   ]
  },
  {
   "cell_type": "code",
   "execution_count": null,
   "metadata": {
    "pycharm": {
     "name": "#%%\n"
    },
    "scrolled": true
   },
   "outputs": [],
   "source": [
    "e_final = []\n",
    "theo_es = []\n",
    "e_final_percent = []\n",
    "theo_es_percent = []\n",
    "for N in np.arange(16,128,1):\n",
    "    fs = 55\n",
    "    b=N\n",
    "    block_size = b\n",
    "    nfft = b\n",
    "    num_sample = b*800\n",
    "\n",
    "    hop_size = b\n",
    "    phase =0\n",
    "\n",
    "    \n",
    "    t = np.arange(num_sample)/fs\n",
    "    f = np.fft.fftfreq(block_size,1/fs )\n",
    "    \n",
    "    f=21.479\n",
    "    cs = np.cos(2*np.pi*f*t+phase) \n",
    "    noise = np.random.normal(0,0,num_sample) \n",
    "    s = cs\n",
    "    \n",
    "    s_reshape = s.reshape(int((num_sample)/N), N)\n",
    "    \n",
    "    dft = np.fft.fft(s_reshape,axis=1)\n",
    "    dht = np.real(dft)-np.imag(dft)\n",
    "    psd_dft = (1/block_size*np.abs(dft)**2).mean(0)\n",
    "    psd_dht = (1/block_size*np.abs(dht)**2).mean(0)\n",
    "    \n",
    "    block_dft = (1/block_size*np.abs(dft)**2)\n",
    "    block_dht = (1/block_size*np.abs(dht)**2)\n",
    "    block_dft_rm = np.array([block_dft[0:i].mean(0) for i in range(1,len(block_dft))])\n",
    "    block_dht_rm = np.array([block_dht[0:i].mean(0) for i in range(1,len(block_dht))])\n",
    "    \n",
    "    w=2*np.pi*f/fs\n",
    "    bins = np.array([fs*i/N for i in range(N)])\n",
    "    idx_left = np.where((f-bins)>0)[0][-1]\n",
    "    idx_right = idx_left+1\n",
    "    if np.abs(idx_left*fs/N-f) < np.abs(idx_right*fs/N-f):\n",
    "        k = idx_left\n",
    "    else:\n",
    "        k = idx_right\n",
    "#     print(np.argmax(block_dft_rm[-1][0:int(N/2)]))\n",
    "#     print(np.max(block_dft_rm[-1][0:int(N/2)]))\n",
    "#     print(np.abs(idx_left-f))\n",
    "#     print(np.abs(idx_right-f))\n",
    "#     print(idx_left*fs/N,idx_right*fs/N,f,idx_left,idx_right)\n",
    "    theo_e = -np.true_divide(1-np.cos(N*w),2*np.cos(2*np.pi*k/N)-2*np.cos(w))*np.sin(2*np.pi*k/N)\n",
    "    \n",
    "    theo_e = 1/N * theo_e\n",
    "    e_k = block_dht_rm[:,k]-block_dft_rm[:,k]\n",
    "    theo_es.append(theo_e/N)\n",
    "    e_final.append(e_k[-1]/N)\n",
    "    \n",
    "    theo_es_percent.append((theo_e/N)/(psd_dft[k]/N))\n",
    "    e_final_percent.append((e_k[-1]/N)/(psd_dft[k]/N))\n",
    "\n",
    "    error = (block_dht_rm[:,6]-block_dft_rm[:,6])\n",
    "#     plt.figure(figsize=(8,5))\n",
    "#     plt.plot(error/N,label='Blocked Average Error',c='r')\n",
    "#     #plt.plot(error[-1]*np.ones_like(error)/N,label='Asymptote Blocked Average Error',c='k',linestyle='--')\n",
    "#     plt.grid()\n",
    "#     plt.xlabel('$l$'+' (block idx)',fontsize=15)\n",
    "#     #plt.ylabel('$\\\\frac{\\\\overline{E_k}}{|X_k|^2}$'+'(%)',fontsize=15)\n",
    "#     plt.ylabel('Blocked Averaged Error',fontsize=15)\n",
    "#     #plt.title('Running Average of DHT/DFT Squared Magnitude at k=6',fontsize=15)\n",
    "#     plt.tick_params('both',labelsize=15)\n",
    "#     plt.ylim([-1,1])\n",
    "#     plt.xlim([0,200])\n",
    "    \n",
    "#     plt.savefig('dht_avg.jpg')\n",
    "#     plt.figure(figsize=(8,5))\n",
    "#     plt.plot(block_dht[:,6]/block_size,label='dht',c='b')\n",
    "#     plt.plot(block_dft[:,6]/block_size,label='dft',c='k')\n",
    "\n",
    "#     plt.grid()\n",
    "#     plt.xlabel('$l$'+' (block idx)',fontsize=15)\n",
    "#     plt.ylabel('Normalized Squared Magnitude',fontsize=15)\n",
    "#     #plt.title('DHT Squared Magnitude at k=6',fontsize=15)\n",
    "#     plt.tick_params('both',labelsize=15)\n",
    "#     plt.ylim([-0.25,0.6])\n",
    "#     plt.xlim([0,200])\n",
    "#     plt.legend(fontsize=15)\n",
    "#     plt.savefig('dht.jpg')\n"
   ]
  },
  {
   "cell_type": "code",
   "execution_count": null,
   "metadata": {},
   "outputs": [],
   "source": [
    "plt.figure(figsize=(10,5))\n",
    "plt.plot(np.arange(16,128,1),100*(np.array(e_final_percent)),c='r',label='simulation')\n",
    "plt.plot(np.arange(16,128,1),100*(np.array(theo_es_percent)),c='navy',label='analysis')\n",
    "plt.grid()\n",
    "plt.xlabel('$N$',fontsize=15)\n",
    "plt.ylabel('$\\\\frac{\\\\overline{E_k}(\\infty)}{|X_k|^2}$'+'(%)',fontsize=15)\n",
    "plt.tick_params('both',labelsize=15,)\n",
    "plt.ylim([-20,20])\n",
    "plt.legend(fontsize=15)\n",
    "plt.savefig('ss_percent.jpg')"
   ]
  },
  {
   "cell_type": "code",
   "execution_count": null,
   "metadata": {
    "pycharm": {
     "name": "#%%\n"
    }
   },
   "outputs": [],
   "source": [
    "plt.figure(figsize=(10,5))\n",
    "plt.plot(np.arange(16,128,1),(np.array(e_final)),c='r',label='simulation')\n",
    "plt.plot(np.arange(16,128,1),(np.array(theo_es)),c='navy',label='analysis')\n",
    "plt.grid()\n",
    "plt.xlabel('$N$',fontsize=15)\n",
    "plt.ylabel('$\\\\overline{E_k}(\\infty)$',fontsize=15)\n",
    "plt.tick_params('both',labelsize=15,)\n",
    "plt.ylim([-0.025,0.025])\n",
    "plt.legend(fontsize=15)\n",
    "plt.savefig('ss.jpg')"
   ]
  },
  {
   "cell_type": "code",
   "execution_count": null,
   "metadata": {
    "pycharm": {
     "name": "#%%\n"
    }
   },
   "outputs": [],
   "source": []
  },
  {
   "cell_type": "code",
   "execution_count": null,
   "metadata": {},
   "outputs": [],
   "source": [
    "e_final[-1]"
   ]
  },
  {
   "cell_type": "code",
   "execution_count": null,
   "metadata": {
    "pycharm": {
     "name": "#%%\n"
    }
   },
   "outputs": [],
   "source": [
    "e_final[-1]"
   ]
  },
  {
   "cell_type": "code",
   "execution_count": null,
   "metadata": {
    "pycharm": {
     "name": "#%%\n"
    }
   },
   "outputs": [],
   "source": [
    "e_final[-1]"
   ]
  },
  {
   "cell_type": "code",
   "execution_count": null,
   "metadata": {
    "scrolled": false
   },
   "outputs": [],
   "source": [
    "100*np.array(e_final)"
   ]
  },
  {
   "cell_type": "code",
   "execution_count": null,
   "metadata": {},
   "outputs": [],
   "source": [
    "e_final[-1]"
   ]
  },
  {
   "cell_type": "code",
   "execution_count": null,
   "metadata": {},
   "outputs": [],
   "source": [
    "e_final[-1]"
   ]
  },
  {
   "cell_type": "code",
   "execution_count": null,
   "metadata": {},
   "outputs": [],
   "source": [
    "100*np.array(e_final)"
   ]
  },
  {
   "cell_type": "code",
   "execution_count": null,
   "metadata": {
    "scrolled": false
   },
   "outputs": [],
   "source": [
    "imgs = []\n",
    "import imageio\n",
    "for i in range(50,51):\n",
    "    N=16\n",
    "    width=0.3\n",
    "    fig, ax = plt.subplots(figsize=(10,5))\n",
    "    ax.bar(np.arange(int(N/2))-width/2,block_dft[i,:][0:int(N/2)],width,label='dft')\n",
    "    ax.bar(np.arange(int(N/2))+width/2,block_dht[i,:][0:int(N/2)],width,label='dht')\n",
    "    ax.grid()\n",
    "    \n",
    "    ax.set_ylabel('square magnitude',fontsize=15)\n",
    "    ax.set_xlabel('frequency idx', fontsize=15)\n",
    "    ax.set_title('DHT vs. DFT per Block', fontsize=15)\n",
    "    ax.tick_params('both',labelsize=25)\n",
    "\n",
    "    ax.legend(loc='upper left',fontsize=25)\n",
    "    \n",
    "    ax.set_ylim([0,8])\n",
    "    fig.canvas.draw()       # draw the canvas, cache the renderer\n",
    "    image = np.frombuffer(fig.canvas.tostring_rgb(), dtype='uint8')\n",
    "    image  = image.reshape(fig.canvas.get_width_height()[::-1] + (3,))\n",
    "    imgs.append(image)\n",
    "    \n",
    "kwargs_write = {'fps':1.0, 'quantizer':'nq'}\n",
    "imageio.mimsave('./powers.gif', imgs, fps=2)\n"
   ]
  },
  {
   "cell_type": "code",
   "execution_count": null,
   "metadata": {
    "pycharm": {
     "name": "#%%\n"
    }
   },
   "outputs": [],
   "source": [
    "# dft = np.fft.fft(s_reshape,axis=1)\n",
    "# dht = np.real(dft)-np.imag(dft)\n",
    "# psd_dft = (1/block_size*np.abs(dft)**2).mean(0)\n",
    "# psd_dht = (1/block_size*np.abs(dht)**2).mean(0)"
   ]
  },
  {
   "cell_type": "code",
   "execution_count": null,
   "metadata": {
    "pycharm": {
     "name": "#%%\n"
    }
   },
   "outputs": [],
   "source": [
    "plt.figure(figsize=(20,10))\n",
    "width = 0.3\n",
    "plt.bar(np.arange(8)-width/2,psd_dft[0:8],width,label='dft')\n",
    "plt.bar(np.arange(8)+width/2,psd_dht[0:8],width,label='dht')\n",
    "plt.tick_params('both',labelsize=25)\n",
    "plt.grid()\n",
    "plt.xlabel('frequency idx',fontsize=25)\n",
    "plt.ylabel('Square Magnitude',fontsize=25)\n",
    "plt.legend(fontsize=25)"
   ]
  },
  {
   "cell_type": "code",
   "execution_count": null,
   "metadata": {
    "pycharm": {
     "name": "#%%\n"
    }
   },
   "outputs": [],
   "source": [
    "psd_dft-psd_dht"
   ]
  },
  {
   "cell_type": "code",
   "execution_count": null,
   "metadata": {
    "pycharm": {
     "name": "#%%\n"
    }
   },
   "outputs": [],
   "source": [
    "dft = np.fft.fft(s_reshape,axis=1)\n",
    "dht = np.real(dft)-np.imag(dft)\n",
    "\n",
    "psd_dft = (1/block_size*np.abs(dft)**2).mean(0)\n",
    "psd_dht = (1/block_size*np.abs(dht)**2).mean(0)"
   ]
  },
  {
   "cell_type": "code",
   "execution_count": null,
   "metadata": {
    "pycharm": {
     "name": "#%%\n"
    }
   },
   "outputs": [],
   "source": [
    "plt.figure(figsize=(20,10))\n",
    "plt.plot(psd_dft,label='dft')\n",
    "plt.plot(psd_dht,label='dht')\n",
    "plt.tick_params('both',labelsize=25)\n",
    "plt.grid()\n",
    "plt.legend(fontsize=25)"
   ]
  },
  {
   "cell_type": "code",
   "execution_count": null,
   "metadata": {
    "pycharm": {
     "name": "#%%\n"
    },
    "scrolled": false
   },
   "outputs": [],
   "source": [
    "f = np.linspace(-27.5,27.5,1001)\n",
    "w = 2*np.pi*f/fs\n",
    "N = 16\n",
    "\n",
    "plt.figure(figsize=(20,10))\n",
    "\n",
    "for N in [16]:\n",
    "    k=6\n",
    "    A = w + 2*np.pi*k/N\n",
    "    B = w - 2*np.pi*k/N\n",
    "    term1 = 0.25*(np.sin(N/2*A)/np.sin(A/2))**2 * np.sin((N-1)*A)\n",
    "    term2 = -0.25*(np.sin(N/2*B)/np.sin(B/2))**2 * np.sin((N-1)*B)\n",
    "    term3 = -np.true_divide(1-np.cos(N*w),2*np.cos(2*np.pi*k/N)-2*np.cos(w))*np.sin(2*np.pi*k/N)\n",
    "    result = (term1+term2+term3)/N\n",
    "    \n",
    "    real = np.sin(N*A/2)/2/np.sin(A/2) * np.cos((N-1)*A/2) + np.sin(N*B/2)/2/np.sin(B/2) * np.cos((N-1)*B/2)\n",
    "    imag = np.sin(N*A/2)/2/np.sin(A/2) * np.sin((N-1)*A/2) + np.sin(N*B/2)/2/np.sin(B/2) * np.sin((N-1)*B/2)\n",
    "    x_k_square = 1/N * (real**2+imag**2)\n",
    "    \n",
    "    final = x_k_square + result \n",
    "    plt.plot(f[int(len(f)/2):],result[int(len(f)/2):],label='$E_k(w_0)$')\n",
    "    plt.plot(f[int(len(f)/2):],x_k_square[int(len(f)/2):],label='$|X_k(w_0)|^2$')\n",
    "    plt.plot(f[int(len(f)/2):],final[int(len(f)/2):],label='$|H_k(w_0)|^2$')\n",
    "    \n",
    "    \n",
    "plt.grid()\n",
    "plt.tick_params('both',labelsize=25)\n",
    "plt.xlabel('f(Hz)',fontsize=25)\n",
    "plt.legend(fontsize=25)\n",
    "plt.ylabel('Square Magnitude')\n"
   ]
  },
  {
   "cell_type": "code",
   "execution_count": null,
   "metadata": {},
   "outputs": [],
   "source": [
    "result.max()"
   ]
  },
  {
   "cell_type": "code",
   "execution_count": null,
   "metadata": {},
   "outputs": [],
   "source": [
    "dft = np.fft.fft(s_reshape,axis=1)\n",
    "dht = np.real(dft)-np.imag(dft)\n",
    "\n",
    "psd_dft = (1/block_size*np.abs(dft)**2).mean(0)\n",
    "psd_dht = (1/block_size*np.abs(dht)**2).mean(0)"
   ]
  },
  {
   "cell_type": "code",
   "execution_count": null,
   "metadata": {},
   "outputs": [],
   "source": [
    "plt.figure(figsize=(20,10))\n",
    "plt.plot(psd_dft,label='dft')\n",
    "plt.plot(psd_dht,label='dht')\n",
    "plt.tick_params('both',labelsize=25)\n",
    "plt.grid()\n",
    "plt.legend(fontsize=25)"
   ]
  },
  {
   "cell_type": "code",
   "execution_count": null,
   "metadata": {},
   "outputs": [],
   "source": [
    "f = np.linspace(0,55,1000)\n",
    "fs=55\n",
    "omega0 = 2*np.pi*f/fs\n",
    "N=16\n",
    "k=6\n",
    "\n",
    "def error(f):\n",
    "    omega0 = 2*np.pi*f/fs\n",
    "    return (np.cos(N*omega0)-1)/(2*np.cos(2*np.pi*k/N)-2*np.cos(omega0))*np.sin(2*np.pi*k/N)/N\n",
    "\n",
    "c_w0 = (np.cos(N*omega0)-1)/(2*np.cos(2*np.pi*k/N)-2*np.cos(omega0))*np.sin(2*np.pi*k/N)/N\n"
   ]
  },
  {
   "cell_type": "code",
   "execution_count": null,
   "metadata": {},
   "outputs": [],
   "source": [
    "plt.figure(figsize=(20,10))\n",
    "plt.plot(f[0:int(len(f)/2)],c_w0[0:int(len(f)/2)])\n",
    "plt.grid()\n",
    "plt.tick_params('both',labelsize=25)\n",
    "plt.xlabel('$f_o$',fontsize=25)\n",
    "plt.ylabel('$C(f_o)$',fontsize=25)\n",
    "plt.title('$C(f_o)$',fontsize=25)\n",
    "\n",
    "bin_freq = np.array([n/N * fs for n in range(int(N/2))])\n",
    "special = np.array([])\n",
    "plt.scatter(bin_freq[6],np.zeros_like(bin_freq)[6],color='red',marker='*',s=600)\n"
   ]
  },
  {
   "cell_type": "code",
   "execution_count": null,
   "metadata": {
    "scrolled": true
   },
   "outputs": [],
   "source": [
    "fs = 55\n",
    "f = np.linspace(0,fs,1000)\n",
    "pi = np.pi\n",
    "sin = np.sin\n",
    "cos = np.cos\n",
    "\n",
    "omega0 = 2*pi*f/fs\n",
    "k=6\n",
    "A = omega0 + 2*pi*k/N\n",
    "B = omega0 - 2*pi*k/N\n",
    "\n",
    "U = 32\n",
    "phis = [i*pi/U for i in range(U+1)]\n",
    "\n",
    "imgs = []\n",
    "for idx, phi in enumerate(phis):\n",
    "    left_pulse = 1/(4*N) * ((sin(N*A/2)/sin(A/2))**2) * sin((N-1)*A + 2*phi)\n",
    "    right_pulse = 1/(4*N) * ((sin(N*B/2)/sin(B/2))**2) * sin((N-1)*B + 2*phi)\n",
    "    overall = 1/N * (1-cos(N*omega0))/(2*cos(2*pi*k/N)-2*cos(omega0)) * sin(2*pi*k/N)\n",
    "    error = left_pulse - right_pulse - overall\n",
    "\n",
    "    sequence = np.array([cos(omega*np.arange(N) + phi) for omega in omega0])\n",
    "    fft_sequence = np.fft.fft(sequence, axis=1)\n",
    "    square_mag = 1/N*np.abs(fft_sequence)**2\n",
    "    \n",
    "    if idx == 0:\n",
    "        ERROR = error \n",
    "        SQUARE_MAG = square_mag\n",
    "        \n",
    "    fig, ax = plt.subplots(figsize=(20,10))\n",
    "    \n",
    "    ax.plot(f[0:int(len(f)/2)],ERROR[0:int(len(f)/2)],c='r',linestyle='--')\n",
    "    ax.plot(f[0:int(len(f)/2)], SQUARE_MAG[:,6][0:int(len(f)/2)],c='k',linestyle='--')\n",
    "    ax.plot(f[0:int(len(f)/2)], ERROR[0:int(len(f)/2)]+SQUARE_MAG[:,6][0:int(len(f)/2)],linestyle='--',c='b')\n",
    "\n",
    "    ax.plot(f[0:int(len(f)/2)],error[0:int(len(f)/2)],label='$E_k(\\omega_o,\\phi)$',c='r',linewidth=4)\n",
    "    ax.plot(f[0:int(len(f)/2)], square_mag[:,6][0:int(len(f)/2)],label='$|X_k(\\omega_o,\\phi)|^2$',c='k')\n",
    "    ax.plot(f[0:int(len(f)/2)], error[0:int(len(f)/2)]+square_mag[:,6][0:int(len(f)/2)],label='$|H_k(\\omega_o,\\phi)|^2$',c='b')\n",
    "    ax.grid()\n",
    "    ax.legend(fontsize=25)\n",
    "    ax.tick_params('both',labelsize=25)\n",
    "    ax.set_xlabel('$f_o=\\omega_of_s/2\\pi$',fontsize=25)\n",
    "    ax.set_ylabel('Squared Magnitude',fontsize=25)\n",
    "    ax.set_ylim([-5,10])\n",
    "    ax.set_title('$\\phi$='+str(idx)+'$\\pi/32$',fontsize=25)\n",
    "    \n",
    "    ax.scatter([20.625],[0],marker='*',s=300,c='darkviolet')\n",
    "    fig.canvas.draw()       # draw the canvas, cache the renderer\n",
    "    image = np.frombuffer(fig.canvas.tostring_rgb(), dtype='uint8')\n",
    "    image  = image.reshape(fig.canvas.get_width_height()[::-1] + (3,))\n",
    "    imgs.append(image)\n",
    "    \n",
    "imageio.mimsave('./powers.gif', imgs, fps=4)"
   ]
  },
  {
   "cell_type": "code",
   "execution_count": null,
   "metadata": {},
   "outputs": [],
   "source": [
    "def error(f,fs,N):\n",
    "    \n",
    "    def error_bin(f,fs,N,k):\n",
    "        omega0 = 2*np.pi*f/fs\n",
    "        c_w0 = (np.cos(N*omega0)-1)/(2*np.cos(2*np.pi*k/N)-2*np.cos(omega0))*np.sin(2*np.pi*k/N)/N\n",
    "        return c_w0\n",
    "    u= [error_bin(f,55,N,k)for k in range(N)]\n",
    "    return np.sum(u)\n",
    "\n",
    "\n"
   ]
  },
  {
   "cell_type": "code",
   "execution_count": null,
   "metadata": {},
   "outputs": [],
   "source": [
    "Es = []\n",
    "for N in [16,32,64,128,256,512,1024,2048,4096,8192]:\n",
    "    E = error(21.479,55,N)\n",
    "    Es.append(E)"
   ]
  },
  {
   "cell_type": "code",
   "execution_count": null,
   "metadata": {},
   "outputs": [],
   "source": [
    "plt.plot(Es)"
   ]
  },
  {
   "cell_type": "code",
   "execution_count": null,
   "metadata": {},
   "outputs": [],
   "source": []
  },
  {
   "cell_type": "code",
   "execution_count": null,
   "metadata": {},
   "outputs": [],
   "source": []
  }
 ],
 "metadata": {
  "kernelspec": {
   "display_name": "Python 3",
   "language": "python",
   "name": "python3"
  },
  "language_info": {
   "codemirror_mode": {
    "name": "ipython",
    "version": 3
   },
   "file_extension": ".py",
   "mimetype": "text/x-python",
   "name": "python",
   "nbconvert_exporter": "python",
   "pygments_lexer": "ipython3",
   "version": "3.7.4"
  }
 },
 "nbformat": 4,
 "nbformat_minor": 1
}