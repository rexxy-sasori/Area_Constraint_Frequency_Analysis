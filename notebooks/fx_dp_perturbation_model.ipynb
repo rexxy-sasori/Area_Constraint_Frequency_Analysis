{
 "cells": [
  {
   "cell_type": "code",
   "execution_count": 38,
   "id": "copyrighted-account",
   "metadata": {},
   "outputs": [],
   "source": [
    "from IO.config import get_usr_config\n",
    "from IO.result import DetectionResult\n",
    "from core import detector\n",
    "from core import freq_transform\n",
    "from core import signal_generator\n",
    "from core import utils\n",
    "from core.utils import MICROSECONDS_IN_SECONDS\n",
    "from IO import config\n",
    "\n",
    "import matplotlib.pyplot as plt\n",
    "import numpy as np\n",
    "import torch\n",
    "\n",
    "from datetime import datetime"
   ]
  },
  {
   "cell_type": "code",
   "execution_count": 39,
   "id": "expected-visit",
   "metadata": {},
   "outputs": [],
   "source": [
    "def unisign_quant(data, n_bits, clip, quant_flag=False):\n",
    "    if not quant_flag:\n",
    "        return data\n",
    "    data = torch.Tensor(data)\n",
    "    w_c = data.clamp(-clip, clip)\n",
    "    b = torch.pow(torch.tensor(2.0), 1 - n_bits)\n",
    "\n",
    "    w_q = clip * torch.min(b * torch.round(w_c / (b * clip)), 1 - b)\n",
    "\n",
    "    return w_q.numpy()\n",
    "\n",
    "def quant_routine(data, n_bits, clip, quant_flag=False):\n",
    "    if data.dtype == 'complex128':\n",
    "        real_q = unisign_quant(np.real(data), n_bits, np.real(clip), quant_flag=False)\n",
    "        imag_q = unisign_quant(np.imag(data), n_bits, np.imag(clip), quant_flag)\n",
    "        return real_q + 1j * imag_q\n",
    "    else:\n",
    "        return unisign_quant(data, n_bits, clip, quant_flag)\n",
    "    \n",
    "def get_min(data):\n",
    "    if data.dtype == 'complex128':\n",
    "        return np.min(np.abs(np.real(data))) + 1j*np.min(np.abs(np.imag(data)))\n",
    "    else:\n",
    "        return np.min(np.abs(data))\n",
    "    \n",
    "    \n",
    "def get_max(data):\n",
    "    if data.dtype == 'complex128':\n",
    "        ret =  np.max(np.abs(np.real(data))) + 1j*np.max(np.abs(np.imag(data)))\n",
    "    else:\n",
    "        ret = np.max(np.abs(data))\n",
    "    \n",
    "    return ret\n",
    "    \n",
    "def dft_weight(N):\n",
    "    return np.fft.fft(np.eye(N))/N\n",
    "\n",
    "def sig_second_moment(sig):\n",
    "    return (np.abs(sig)**2).mean()\n",
    "\n",
    "def get_real_quantization_noise_var(delta):\n",
    "    return delta**2/12\n",
    "\n",
    "def get_complex_quantization_noise_var(delta):\n",
    "    return delta**2/6\n",
    "\n",
    "def get_formula_error(predicted, simulated):\n",
    "    return 10*np.log10(predicted/simulated)"
   ]
  },
  {
   "cell_type": "code",
   "execution_count": 40,
   "id": "frank-departure",
   "metadata": {},
   "outputs": [],
   "source": [
    "weight_quant = 0\n",
    "Bw = 3\n",
    "input_quant = 0\n",
    "Bx = 4\n",
    "acc_quant = 0\n",
    "Ba = 8"
   ]
  },
  {
   "cell_type": "code",
   "execution_count": 24,
   "id": "brief-somalia",
   "metadata": {},
   "outputs": [],
   "source": [
    "noise_level = 0\n",
    "configurations = config.parse_config('../yaml/example.yaml')\n",
    "\n",
    "noise_level_db = noise_level\n",
    "noise_level_linear = utils.db_to_linear(noise_level_db)\n",
    "\n",
    "configurations.signal.num_pos_decision = 10000\n",
    "configurations.signal.amps = [1]\n",
    "configurations.signal.freqs = [406.25]\n",
    "configurations.signal.phase = [0]\n",
    "configurations.noise.init_args.top = noise_level_linear\n",
    "configurations.noise.init_args.steady_state = noise_level_linear\n",
    "\n",
    "generator = signal_generator.InputSignalGenerator(configurations.signal, configurations.noise)\n",
    "signal_with_noise, _ = generator.get()\n",
    "\n",
    "configurations.noise.init_args.top = 0\n",
    "configurations.noise.init_args.steady_state = 0\n",
    "\n",
    "generator = signal_generator.InputSignalGenerator(configurations.signal, configurations.noise)\n",
    "signal_without_noise, _ = generator.get()\n",
    "\n",
    "noise_sample = signal_with_noise - signal_without_noise\n",
    "\n",
    "Nd = configurations.signal.num_pos_decision\n",
    "N = configurations.signal.block_size\n",
    "signal_with_noise = signal_with_noise[0:Nd,:,:]\n",
    "signal_without_noise = signal_without_noise[0:Nd,:,:]\n",
    "noise_sample = noise_sample[0:Nd,:,:]"
   ]
  },
  {
   "cell_type": "code",
   "execution_count": 25,
   "id": "hearing-harris",
   "metadata": {},
   "outputs": [],
   "source": [
    "coeff = freq_transform.dht_coeff_ditter(N)/N\n",
    "wmax = get_max(coeff)\n",
    "\n",
    "qcoeff = quant_routine(coeff, n_bits=Bw, clip=wmax, quant_flag=weight_quant)\n",
    "deltaw = qcoeff - coeff\n",
    "wsqnorm = np.real(np.array([np.conjugate(coeff[i,:]).dot(coeff[i,:]) for i in range(N)]))\n",
    "deltawnorm = np.array([(np.conjugate(deltaw[i,:]).dot(deltaw[i,:])) for i in range(N)])"
   ]
  },
  {
   "cell_type": "code",
   "execution_count": 26,
   "id": "medical-patch",
   "metadata": {},
   "outputs": [
    {
     "name": "stdout",
     "output_type": "stream",
     "text": [
      "(160000,)\n"
     ]
    }
   ],
   "source": [
    "signal_power = np.var(signal_without_noise)\n",
    "sigal_max = get_max(signal_without_noise)\n",
    "qsignal_with_noise =  quant_routine(signal_with_noise, Bx, sigal_max, input_quant)\n",
    "q_input_noise = qsignal_with_noise - signal_with_noise\n",
    "deltax = utils.get_delta(Bx, sigal_max)\n",
    "print(np.unique(qsignal_with_noise.reshape(N*Nd)).shape)\n",
    "      "
   ]
  },
  {
   "cell_type": "code",
   "execution_count": 27,
   "id": "editorial-powder",
   "metadata": {},
   "outputs": [
    {
     "name": "stdout",
     "output_type": "stream",
     "text": [
      "1.0\n"
     ]
    }
   ],
   "source": [
    "q_input_noise = q_input_noise.reshape(N*Nd)\n",
    "q = q_input_noise[np.where(np.abs(q_input_noise) < deltax/2)[0]]\n",
    "print(len(q)/N/Nd)\n"
   ]
  },
  {
   "cell_type": "code",
   "execution_count": 28,
   "id": "arranged-thesaurus",
   "metadata": {},
   "outputs": [
    {
     "data": {
      "text/plain": [
       "(160000,)"
      ]
     },
     "execution_count": 28,
     "metadata": {},
     "output_type": "execute_result"
    }
   ],
   "source": [
    "q.shape"
   ]
  },
  {
   "cell_type": "code",
   "execution_count": 29,
   "id": "scientific-albert",
   "metadata": {},
   "outputs": [],
   "source": [
    "result_noise = np.zeros(signal_without_noise.shape)\n",
    "result_signal_without_noise = np.zeros(signal_without_noise.shape)\n",
    "result_signal_with_noise = np.zeros(signal_without_noise.shape)\n",
    "qresult_signal_without_noise = np.zeros(signal_without_noise.shape)\n",
    "qresult_signal_with_noise = np.zeros(signal_without_noise.shape)"
   ]
  },
  {
   "cell_type": "code",
   "execution_count": 30,
   "id": "casual-cross",
   "metadata": {},
   "outputs": [
    {
     "ename": "NameError",
     "evalue": "name 'qnoise' is not defined",
     "output_type": "error",
     "traceback": [
      "\u001b[0;31m---------------------------------------------------------------------------\u001b[0m",
      "\u001b[0;31mNameError\u001b[0m                                 Traceback (most recent call last)",
      "\u001b[0;32m<ipython-input-30-2fb7bf251708>\u001b[0m in \u001b[0;36m<module>\u001b[0;34m\u001b[0m\n\u001b[0;32m----> 1\u001b[0;31m \u001b[0mlen\u001b[0m\u001b[0;34m(\u001b[0m\u001b[0mqnoise\u001b[0m\u001b[0;34m)\u001b[0m\u001b[0;34m/\u001b[0m\u001b[0mN\u001b[0m\u001b[0;34m/\u001b[0m\u001b[0mNd\u001b[0m\u001b[0;34m\u001b[0m\u001b[0;34m\u001b[0m\u001b[0m\n\u001b[0m",
      "\u001b[0;31mNameError\u001b[0m: name 'qnoise' is not defined"
     ]
    }
   ],
   "source": [
    "len(qnoise)/N/Nd"
   ]
  },
  {
   "cell_type": "code",
   "execution_count": 35,
   "id": "referenced-nowhere",
   "metadata": {},
   "outputs": [
    {
     "name": "stdout",
     "output_type": "stream",
     "text": [
      "predicted vs. simulated: -8.779529407678854 dB\n"
     ]
    }
   ],
   "source": [
    "start = datetime.now()\n",
    "for i in range(Nd):\n",
    "    result_signal_without_noise[i,:,:] = coeff.dot(signal_without_noise[0,:,:][0])\n",
    "    result_noise[i,:,:]  = coeff.dot(noise_sample[i,:,:][0])\n",
    "    result_signal_with_noise[i, : ,:] = coeff.dot(signal_with_noise[i,:,:][0])\n",
    "    qresult_signal_with_noise[i, :, :] = qcoeff.dot(qsignal_with_noise[i,:,:][0])\n",
    "\n",
    "result_max = get_max(result_signal_with_noise)\n",
    "deltay = utils.get_delta(Ba, result_max)\n",
    "qresult_signal_with_noise = quant_routine(qresult_signal_with_noise, Ba, result_max, acc_quant)\n",
    "end = datetime.now()\n",
    "\n",
    "final_noise = qresult_signal_with_noise - result_signal_without_noise\n",
    "\n",
    "predicted_orig_noise_at_the_output = wsqnorm[3]*noise_level_linear\n",
    "predicted_weight_quant_at_the_output = deltawnorm[3] * sig_second_moment(signal_with_noise) if weight_quant else 0\n",
    "predicted_input_quant_at_the_output = wsqnorm[3] * q_input_noise.var() if input_quant else 0\n",
    "predicted_acc_quant_at_the_output = get_real_quantization_noise_var(deltay) if acc_quant else 0\n",
    "\n",
    "predicted_total = np.sum(np.array([\n",
    "    predicted_orig_noise_at_the_output,\n",
    "#     predicted_weight_quant_at_the_output,\n",
    "#     predicted_input_quant_at_the_output,\n",
    "#     predicted_acc_quant_at_the_output\n",
    "])) \n",
    "\n",
    "simulated_noise_at_the_output = sig_second_moment(final_noise[:,:,3])\n",
    "\n",
    "\n",
    "print('predicted vs. simulated:', \n",
    "      get_formula_error(predicted_total, simulated_noise_at_the_output), 'dB')"
   ]
  },
  {
   "cell_type": "code",
   "execution_count": 37,
   "id": "occupied-avenue",
   "metadata": {},
   "outputs": [
    {
     "data": {
      "text/plain": [
       "(10000, 1, 16)"
      ]
     },
     "execution_count": 37,
     "metadata": {},
     "output_type": "execute_result"
    }
   ],
   "source": []
  },
  {
   "cell_type": "code",
   "execution_count": null,
   "id": "accredited-reason",
   "metadata": {},
   "outputs": [],
   "source": []
  }
 ],
 "metadata": {
  "kernelspec": {
   "display_name": "Python 3",
   "language": "python",
   "name": "python3"
  },
  "language_info": {
   "codemirror_mode": {
    "name": "ipython",
    "version": 3
   },
   "file_extension": ".py",
   "mimetype": "text/x-python",
   "name": "python",
   "nbconvert_exporter": "python",
   "pygments_lexer": "ipython3",
   "version": "3.7.10"
  }
 },
 "nbformat": 4,
 "nbformat_minor": 5
}
