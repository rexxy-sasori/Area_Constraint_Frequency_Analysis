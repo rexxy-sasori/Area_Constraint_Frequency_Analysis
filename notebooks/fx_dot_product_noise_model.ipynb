{
 "cells": [
  {
   "cell_type": "code",
   "execution_count": 6,
   "metadata": {
    "pycharm": {
     "is_executing": true
    }
   },
   "outputs": [],
   "source": [
    "from IO.config import get_usr_config\n",
    "from IO.result import DetectionResult\n",
    "from core import detector\n",
    "from core import freq_transform\n",
    "from core import signal_generator\n",
    "from core import utils\n",
    "from core.utils import MICROSECONDS_IN_SECONDS\n",
    "from IO import config\n",
    "\n",
    "import matplotlib.pyplot as plt\n",
    "import numpy as np\n",
    "import torch\n",
    "\n",
    "from datetime import datetime"
   ]
  },
  {
   "cell_type": "code",
   "execution_count": 7,
   "metadata": {
    "pycharm": {
     "is_executing": true
    }
   },
   "outputs": [],
   "source": [
    "class NoiseModelData:\n",
    "    def __init__(\n",
    "        self, \n",
    "        dim,\n",
    "        Bx, Bw, Ba,\n",
    "        noise_level_db,\n",
    "        model_coeff_generator,\n",
    "        \n",
    "        deltax, deltaw, deltay,\n",
    "        var_weight,\n",
    "        noise_level_linear,\n",
    "        \n",
    "        qoutput,\n",
    "        noise_to_out,\n",
    "        qinput_to_out,\n",
    "        qweight_to_out_by_signal,\n",
    "        qweight_to_out_by_noise\n",
    "    ):\n",
    "        self.dim = dim\n",
    "        self.Bx = Bx\n",
    "        self.Bw = Bw\n",
    "        self.Ba = Ba\n",
    "        self.noise_level_db = noise_level_db\n",
    "        self.model_coeff_generator = model_coeff_generator\n",
    "        self.deltax = delta\n",
    "        self.deltaw = deltaw\n",
    "        self.deltay = deltay\n",
    "        self.var_weight = var_weight\n",
    "        self.noise_level_linear = noise_level_linear\n",
    "        self.noise_to_out = noise_to_out\n",
    "        self.qoutput = qoutput\n",
    "        self.noise_to_out = noise_to_out,\n",
    "        self.qinput_to_out = qinput_to_out\n",
    "        self.qweight_to_out_by_signal = qweight_to_out_by_signal\n",
    "        self.qweight_to_out_by_noise = qweight_to_out_by_noise"
   ]
  },
  {
   "cell_type": "code",
   "execution_count": 8,
   "metadata": {
    "pycharm": {
     "is_executing": true
    }
   },
   "outputs": [],
   "source": [
    "def unisign_quant(data, n_bits, clip, quant_flag=False):\n",
    "    if not quant_flag:\n",
    "        return data\n",
    "    \n",
    "    data = torch.Tensor(data)\n",
    "    w_c = data.clamp(-clip, clip)\n",
    "    b = torch.pow(torch.tensor(2.0), 1 - n_bits)\n",
    "    w_q = clip * torch.min(b * torch.round(w_c / (b * clip)), 1 - b)\n",
    "\n",
    "    return w_q.numpy()\n"
   ]
  },
  {
   "cell_type": "code",
   "execution_count": 12,
   "metadata": {
    "pycharm": {
     "is_executing": true
    },
    "scrolled": false
   },
   "outputs": [
    {
     "name": "stdout",
     "output_type": "stream",
     "text": [
      "[0, 0.1248993535084581, 0.0555724806133945, 0, 0]\n",
      "total time (s):  0.007 B: 2 3 dB: 0.04259475041207329 -0.0026474248069216265 -0.04524217521899508\n",
      "[0, 0.1246366887635359, 0.014943234633885522, 0, 0]\n",
      "total time (s):  0.009 B: 3 3 dB: 0.05856731741590948 0.03557818650502763 -0.022989130910882852\n",
      "[0, 0.12494514723587682, 0.0033561550635260386, 0, 0]\n",
      "total time (s):  0.009 B: 4 3 dB: 0.09803246851525867 -0.030215119244902177 -0.1282475877601606\n",
      "[0, 0.12504106888716202, 0.0008257297719050891, 0, 0]\n",
      "total time (s):  0.008 B: 5 3 dB: 0.019488775825314567 -0.014034223143563604 -0.03352299896887766\n",
      "[0, 0.12446443529852907, 0.00021827013185596816, 0, 0]\n",
      "total time (s):  0.009 B: 6 3 dB: -0.08434720010123717 -0.034457262190694976 0.04988993791054251\n",
      "[0, 0.12480599273494539, 5.519345517571308e-05, 0, 0]\n",
      "total time (s):  0.008 B: 7 3 dB: -0.04870110085954837 0.016893830507234656 0.06559493136678235\n",
      "[0, 0.12490578422769806, 1.171246953931554e-05, 0, 0]\n",
      "total time (s):  0.008 B: 8 3 dB: 0.006063035416849096 0.041655636071320355 0.035592600654471104\n",
      "[0, 0.12471012599364086, 4.824142312484146e-06, 0, 0]\n",
      "total time (s):  0.007 B: 9 3 dB: -0.0999275968834949 0.01896749949092865 0.11889509637442362\n",
      "[0, 0.12463156249762045, 7.804263579541785e-07, 0, 0]\n",
      "total time (s):  0.008 B: 10 3 dB: 0.11173290514858136 0.0047828072758428365 -0.10695009787273795\n"
     ]
    }
   ],
   "source": [
    "weight_quant = False\n",
    "acc_quant = False\n",
    "input_quant = True\n",
    "\n",
    "for noise_level in range(3,4):\n",
    "    for b in range(2, 11):\n",
    "        configurations = config.parse_config('../yaml/example.yaml')\n",
    "\n",
    "        noise_level_db = noise_level\n",
    "        noise_level_linear = utils.db_to_linear(noise_level_db)\n",
    "\n",
    "        configurations.signal.num_pos_decision = 1000\n",
    "        configurations.signal.amps = [1]\n",
    "        configurations.noise.init_args.top = noise_level_linear\n",
    "        configurations.noise.init_args.steady_state = noise_level_linear\n",
    "\n",
    "        generator = signal_generator.InputSignalGenerator(configurations.signal, configurations.noise)\n",
    "        signal_with_noise, _ = generator.get()\n",
    "\n",
    "        configurations.noise.init_args.top = 0\n",
    "        configurations.noise.init_args.steady_state = 0\n",
    "\n",
    "        generator = signal_generator.InputSignalGenerator(configurations.signal, configurations.noise)\n",
    "        signal_without_noise, _ = generator.get()\n",
    "\n",
    "        noise_sample = signal_with_noise - signal_without_noise\n",
    "\n",
    "        Nd = configurations.signal.num_pos_decision\n",
    "        N = configurations.signal.block_size\n",
    "        signal_with_noise = signal_with_noise[0:Nd,:,:]\n",
    "        signal_without_noise = signal_without_noise[0:Nd,:,:]\n",
    "        noise_sample = noise_sample[0:Nd,:,:]\n",
    "\n",
    "        coeff_jdht = np.zeros((Nd,N,N))\n",
    "        for i in range(Nd):\n",
    "            coeff_jdht[i, :, :] = freq_transform.dht_coeff_jitter(N)/N\n",
    "\n",
    "        var_jdht_coeff = np.var(coeff_jdht)\n",
    "        signal_power = np.var(signal_without_noise)\n",
    "\n",
    "        Bw = b\n",
    "        w_max = np.abs(coeff_jdht).max()\n",
    "        qcoeff_jdht = unisign_quant(coeff_jdht, Bw, w_max, weight_quant)\n",
    "        deltaw = utils.get_delta(Bw, w_max)\n",
    "\n",
    "        Bx = b\n",
    "        sigal_max = np.abs(signal_with_noise).max()\n",
    "        qsignal_with_noise =  unisign_quant(signal_with_noise, Bx, sigal_max, input_quant)\n",
    "        deltax = utils.get_delta(Bx, sigal_max)\n",
    "\n",
    "        result_noise = np.zeros(signal_without_noise.shape)\n",
    "        result_signal_without_noise = np.zeros(signal_without_noise.shape)\n",
    "        result_signal_with_noise = np.zeros(signal_without_noise.shape)\n",
    "        qresult_signal_without_noise = np.zeros(signal_without_noise.shape)\n",
    "        qresult_signal_with_noise = np.zeros(signal_without_noise.shape)\n",
    "\n",
    "        start = datetime.now()\n",
    "        for i in range(Nd):\n",
    "            result_signal_without_noise[i,:,:] = signal_without_noise[i,:,:].dot(coeff_jdht[i,:,:].T)\n",
    "            result_noise[i,:,:]  = noise_sample[i,:,:].dot(coeff_jdht[i,:,:].T)\n",
    "            result_signal_with_noise[i, : ,:] = signal_with_noise[i,:,:].dot(coeff_jdht[i,:,:].T)\n",
    "            \n",
    "            qresult_signal_with_noise[i, :, :] = qsignal_with_noise[i,:,:].dot(qcoeff_jdht[i,:,:].T)\n",
    "\n",
    "        Ba = b\n",
    "        result_max = np.abs(result_signal_with_noise).max()\n",
    "        deltay = utils.get_delta(Ba, result_max)\n",
    "        qresult_signal_with_noise = unisign_quant(qresult_signal_with_noise, Ba, result_max, acc_quant)\n",
    "        end = datetime.now()\n",
    "\n",
    "        total_dp_noise = qresult_signal_with_noise - result_signal_without_noise\n",
    "        var_total_dp_noise = total_dp_noise.var()\n",
    "        A = deltay**2/12 if acc_quant else 0\n",
    "        B = N * var_jdht_coeff * noise_level_linear \n",
    "        C = N/12 * var_jdht_coeff * deltax**2 if input_quant else 0\n",
    "        D = N/12 * signal_without_noise.var() * deltaw**2 if weight_quant else 0\n",
    "        E = N/12 * noise_level_linear * deltaw**2 if weight_quant else 0\n",
    "        \n",
    "        predicted_signal_power = N * signal_power * var_jdht_coeff\n",
    "        sim_signal_power = result_signal_without_noise.var()\n",
    "        \n",
    "        print([A,B,C,D,E])\n",
    "        predicted_snr = predicted_signal_power / (A+B+C+D+E)\n",
    "        sim_snr = sim_signal_power / var_total_dp_noise\n",
    "        print('total time (s):', utils.format_float((end-start).total_seconds()), 'B:', b,\n",
    "              noise_level, 'dB:', 10*np.log10((A+B+C+D+E)/var_total_dp_noise), \n",
    "             10*np.log10(predicted_signal_power/sim_signal_power),\n",
    "             10*np.log10(predicted_snr/sim_snr))"
   ]
  },
  {
   "cell_type": "code",
   "execution_count": 10,
   "metadata": {
    "pycharm": {
     "is_executing": true
    }
   },
   "outputs": [
    {
     "ename": "NameError",
     "evalue": "name 'noise_levels' is not defined",
     "output_type": "error",
     "traceback": [
      "\u001B[0;31m---------------------------------------------------------------------------\u001B[0m",
      "\u001B[0;31mNameError\u001B[0m                                 Traceback (most recent call last)",
      "\u001B[0;32m<ipython-input-10-9c569d9d0db0>\u001B[0m in \u001B[0;36m<module>\u001B[0;34m\u001B[0m\n\u001B[0;32m----> 1\u001B[0;31m \u001B[0mnidx\u001B[0m \u001B[0;34m=\u001B[0m \u001B[0mnp\u001B[0m\u001B[0;34m.\u001B[0m\u001B[0mwhere\u001B[0m\u001B[0;34m(\u001B[0m\u001B[0mnoise_levels\u001B[0m\u001B[0;34m==\u001B[0m\u001B[0;34m-\u001B[0m\u001B[0;36m20\u001B[0m\u001B[0;34m)\u001B[0m\u001B[0;34m[\u001B[0m\u001B[0;36m0\u001B[0m\u001B[0;34m]\u001B[0m\u001B[0;34m\u001B[0m\u001B[0;34m\u001B[0m\u001B[0m\n\u001B[0m\u001B[1;32m      2\u001B[0m \u001B[0msim\u001B[0m \u001B[0;34m=\u001B[0m \u001B[0msimret\u001B[0m\u001B[0;34m[\u001B[0m\u001B[0mnidx\u001B[0m\u001B[0;34m,\u001B[0m \u001B[0;34m:\u001B[0m\u001B[0;34m]\u001B[0m\u001B[0;34m\u001B[0m\u001B[0;34m\u001B[0m\u001B[0m\n\u001B[1;32m      3\u001B[0m \u001B[0mer\u001B[0m \u001B[0;34m=\u001B[0m \u001B[0mevalret\u001B[0m\u001B[0;34m[\u001B[0m\u001B[0mnidx\u001B[0m\u001B[0;34m,\u001B[0m \u001B[0;34m:\u001B[0m\u001B[0;34m]\u001B[0m\u001B[0;34m\u001B[0m\u001B[0;34m\u001B[0m\u001B[0m\n",
      "\u001B[0;31mNameError\u001B[0m: name 'noise_levels' is not defined"
     ]
    }
   ],
   "source": [
    "nidx = np.where(noise_levels==-20)[0]\n",
    "sim = simret[nidx, :]\n",
    "er = evalret[nidx, :]"
   ]
  },
  {
   "cell_type": "code",
   "execution_count": null,
   "metadata": {
    "pycharm": {
     "is_executing": true
    }
   },
   "outputs": [],
   "source": [
    "import matplotlib.pyplot as plt\n",
    "from matplotlib.lines import Line2D\n",
    "plt.figure(figsize=(10,5))\n",
    "color = [\n",
    "    '#1f77b4',\n",
    "    '#ff7f0e',\n",
    "    '#2ca02c',\n",
    "    '#d62728',\n",
    "    '#9467bd',\n",
    "    '#8c564b',\n",
    "    '#e377c2',\n",
    "    '#7f7f7f',\n",
    "    '#bcbd22',\n",
    "    '#17becf'\n",
    "]\n",
    "\n",
    "legend_elements = [\n",
    "    Line2D([0], [0], marker='o', color='w', label='Evaluation', markerfacecolor='k', markersize=8),\n",
    "    Line2D([0], [0], marker='s', color='w', label='Simulation', markerfacecolor='k', markersize=8),\n",
    "]\n",
    "\n",
    "for idx, nl in enumerate([-25, -20, -15, -10]):\n",
    "    nidx = np.where(noise_levels==nl)[0]\n",
    "    sim = simret[nidx, :]\n",
    "    er = evalret[nidx, :]\n",
    "    plt.plot(bs, 10*np.log10(sim[0]), marker='o', c=color[idx])\n",
    "    plt.plot(bs, 10*np.log10(er[0]), marker='s',c=color[idx])\n",
    "    legend_elements.append(Line2D([0], [0], color=color[idx], lw=4, label='$SNR_T$='+str(-nl)+' dB'),)\n",
    "\n",
    "plt.legend(handles=legend_elements, loc='lower right', fontsize=15, ncol=1)\n",
    "plt.grid()\n",
    "plt.tick_params('both', labelsize=15)\n",
    "plt.xlabel('$B_x$', fontsize=15)\n",
    "plt.ylabel('$SNR_F$' + '(dB)', fontsize=15)"
   ]
  },
  {
   "cell_type": "code",
   "execution_count": null,
   "metadata": {
    "pycharm": {
     "is_executing": true
    }
   },
   "outputs": [],
   "source": [
    "signal_without_noise"
   ]
  },
  {
   "cell_type": "code",
   "execution_count": null,
   "metadata": {
    "pycharm": {
     "is_executing": true
    }
   },
   "outputs": [],
   "source": [
    "result_signal_with_noise.shape"
   ]
  },
  {
   "cell_type": "code",
   "execution_count": null,
   "metadata": {
    "pycharm": {
     "is_executing": true
    }
   },
   "outputs": [],
   "source": [
    "simret[nidx, :]"
   ]
  },
  {
   "cell_type": "code",
   "execution_count": null,
   "metadata": {
    "pycharm": {
     "is_executing": true
    }
   },
   "outputs": [],
   "source": [
    "configurations.signal"
   ]
  },
  {
   "cell_type": "code",
   "execution_count": null,
   "metadata": {
    "pycharm": {
     "is_executing": true
    }
   },
   "outputs": [],
   "source": []
  }
 ],
 "metadata": {
  "kernelspec": {
   "display_name": "Python 3",
   "language": "python",
   "name": "python3"
  },
  "language_info": {
   "codemirror_mode": {
    "name": "ipython",
    "version": 3
   },
   "file_extension": ".py",
   "mimetype": "text/x-python",
   "name": "python",
   "nbconvert_exporter": "python",
   "pygments_lexer": "ipython3",
   "version": "3.7.10"
  }
 },
 "nbformat": 4,
 "nbformat_minor": 1
}