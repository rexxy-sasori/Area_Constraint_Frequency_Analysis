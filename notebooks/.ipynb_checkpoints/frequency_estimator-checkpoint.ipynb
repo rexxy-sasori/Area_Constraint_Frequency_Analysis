{
 "cells": [
  {
   "cell_type": "code",
   "execution_count": 7,
   "metadata": {
    "pycharm": {
     "is_executing": true
    }
   },
   "outputs": [],
   "source": [
    "import numpy as np\n",
    "\n",
    "from IO import config\n",
    "from IO.result import DetectionResult\n",
    "from core import detector\n",
    "from core import freq_transform\n",
    "from core import signal_generator\n",
    "import copy\n",
    "import time\n",
    "import shutil, os\n",
    "from tqdm import tqdm\n",
    "import glob"
   ]
  },
  {
   "cell_type": "code",
   "execution_count": 8,
   "metadata": {},
   "outputs": [],
   "source": [
    "usr_configs_template = config.parse_config('../yaml/template.yaml')\n",
    "search_space = config.parse_search_space('../yaml/search_space.yaml')"
   ]
  },
  {
   "cell_type": "code",
   "execution_count": 11,
   "metadata": {},
   "outputs": [],
   "source": [
    "def run(usr_config):    \n",
    "    np.random.seed(usr_config.seed)\n",
    "\n",
    "    # prepare input signal\n",
    "    input_signal_generator = signal_generator.InputSignalGenerator(usr_config.signal, usr_config.noise)\n",
    "    input_signal, labels = input_signal_generator.get()\n",
    "\n",
    "    # transform to frequency domain\n",
    "    input_signal_freq_sq_mag, input_fft = freq_transform.transform_all(\n",
    "        input_signal, usr_config.freq_transform_method, usr_config.signal\n",
    "    )\n",
    "    input_signal_freq_sq_mag_half = input_signal_freq_sq_mag[:, 0:int(usr_config.signal.block_size / 2) + 1]\n",
    "\n",
    "    freq_detector = detector.HarmonicEstimator(usr_config.detection, input_signal_generator)\n",
    "    roc, scores= freq_detector.get_roc(input_signal_freq_sq_mag_half, labels)\n",
    "\n",
    "    # save result\n",
    "    result = DetectionResult(roc=roc, usr_configs=usr_config, scores=scores)\n",
    "    result.save(usr_config.result_dir)\n",
    "    \n",
    "def experiment(hyper_param):\n",
    "    usr_configs_template.signal.block_size = hyper_param.block_size\n",
    "    usr_configs_template.signal.num_blocks_avg = hyper_param.num_blocks_avg\n",
    "    usr_configs_template.signal.phases = [hyper_param.phi]\n",
    "    usr_configs_template.signal.hop_size = usr_configs_template.signal.block_size * usr_configs_template.signal.num_blocks_avg\n",
    "    \n",
    "    usr_configs_template.noise.init_args.top = hyper_param.noise_level\n",
    "    usr_configs_template.noise.init_args.steady_state = hyper_param.noise_level\n",
    "    \n",
    "    usr_configs_template.freq_transform_method.name = hyper_param.freq_transform_method\n",
    "    usr_configs_template.detection.name = hyper_param.detection_method\n",
    "    \n",
    "    usr_configs_template.result_dir = os.path.join(\n",
    "        '../results',\n",
    "        'Fmethod_{}'.format(hyper_param.freq_transform_method),\n",
    "        'detection_{}'.format(hyper_param.detection_method),\n",
    "        'phi_{}'.format(hyper_param.phi),\n",
    "        'N_{}'.format(hyper_param.block_size),\n",
    "        'L_{}'.format(hyper_param.num_blocks_avg),\n",
    "        'inde_noise_level_{}'.format(hyper_param.noise_level),\n",
    "    )\n",
    "    \n",
    "    \n",
    "    \n",
    "    #print('idx: {}/{} simulation dir: {}'.format(idx, size_search_space, usr_configs_template.result_dir))\n",
    "    \n",
    "    N = usr_configs_template.signal.block_size\n",
    "    fs = usr_configs_template.signal.fs\n",
    "    test_k = np.linspace(3,4,21)\n",
    "    test_f = test_k/N * fs\n",
    "    \n",
    "    if os.path.exists(usr_configs_template.result_dir):\n",
    "        number_tar = glob.glob(os.path.join(usr_configs_template.result_dir, '*tar'))\n",
    "        if len(number_tar) != 21:\n",
    "            #print(usr_configs_template.result_dir)\n",
    "            shutil.rmtree(usr_configs_template.result_dir)\n",
    "        else:\n",
    "            return\n",
    "    \n",
    "    #print(usr_configs_template.result_dir)\n",
    "    for f in test_f:\n",
    "        usr_configs_template.signal.freqs=[f]\n",
    "        #run(usr_configs_template)"
   ]
  },
  {
   "cell_type": "code",
   "execution_count": 12,
   "metadata": {
    "pycharm": {
     "is_executing": true
    },
    "scrolled": true
   },
   "outputs": [
    {
     "name": "stderr",
     "output_type": "stream",
     "text": [
      "100%|██████████| 40/40 [00:00<00:00, 1267.07it/s]\n"
     ]
    }
   ],
   "source": [
    "size_search_space = len(search_space)\n",
    "\n",
    "for idx in tqdm(range(len(search_space))):\n",
    "    # set hyper parameters\n",
    "    hyper_param = search_space[idx]\n",
    "    experiment(hyper_param)"
   ]
  },
  {
   "cell_type": "code",
   "execution_count": null,
   "metadata": {
    "pycharm": {
     "is_executing": true
    }
   },
   "outputs": [],
   "source": [
    "from multiprocessing import Pool\n",
    "import time\n",
    "\n",
    "s = time.time()\n",
    "pool = Pool(processes=8)\n",
    "for _ in tqdm(pool.map(experiment, search_space), total=len(search_space)):\n",
    "    pass\n",
    "e = time.time()\n",
    "print('total time in second:',e-s)"
   ]
  },
  {
   "cell_type": "code",
   "execution_count": null,
   "metadata": {
    "pycharm": {
     "is_executing": true
    }
   },
   "outputs": [],
   "source": [
    "test_k"
   ]
  },
  {
   "cell_type": "code",
   "execution_count": null,
   "metadata": {
    "pycharm": {
     "is_executing": true
    }
   },
   "outputs": [],
   "source": [
    "np.linspace(3,4,21)"
   ]
  },
  {
   "cell_type": "code",
   "execution_count": null,
   "metadata": {
    "pycharm": {
     "is_executing": true
    }
   },
   "outputs": [],
   "source": [
    "s.shape"
   ]
  },
  {
   "cell_type": "code",
   "execution_count": null,
   "metadata": {},
   "outputs": [],
   "source": []
  },
  {
   "cell_type": "code",
   "execution_count": null,
   "metadata": {},
   "outputs": [],
   "source": []
  }
 ],
 "metadata": {
  "kernelspec": {
   "display_name": "Python 3",
   "language": "python",
   "name": "python3"
  },
  "language_info": {
   "codemirror_mode": {
    "name": "ipython",
    "version": 3
   },
   "file_extension": ".py",
   "mimetype": "text/x-python",
   "name": "python",
   "nbconvert_exporter": "python",
   "pygments_lexer": "ipython3",
   "version": "3.7.4"
  }
 },
 "nbformat": 4,
 "nbformat_minor": 1
}
