{
 "cells": [
  {
   "cell_type": "code",
   "execution_count": null,
   "metadata": {},
   "outputs": [],
   "source": [
    "import numpy as np\n",
    "import matplotlib.pyplot as plt\n",
    "import os\n",
    "from scipy.stats import bernoulli\n",
    "from IO.config import parse_config\n",
    "from core import signal_generator\n",
    "from core.freq_transform import transform_all"
   ]
  },
  {
   "cell_type": "code",
   "execution_count": null,
   "metadata": {},
   "outputs": [],
   "source": [
    "usr_config = parse_config('../yaml/example.yaml')"
   ]
  },
  {
   "cell_type": "code",
   "execution_count": null,
   "metadata": {
    "pycharm": {
     "is_executing": true
    }
   },
   "outputs": [],
   "source": [
    "N = 16\n",
    "L = 1\n",
    "phi = np.pi/4\n",
    "\n",
    "usr_config.signal.block_size = N\n",
    "usr_config.signal.num_blocks_avg = L\n",
    "usr_config.signal.hop_size = N*L\n",
    "usr_config.signal.num_pos_decision = 2\n",
    "\n",
    "usr_config.noise.init_args.top = 0\n",
    "usr_config.noise.init_args.steady_state = 0\n",
    "npos = usr_config.signal.num_pos_decision\n",
    "fs = usr_config.signal.fs\n",
    "\n",
    "test_k = np.linspace(0,N,4001)\n",
    "test_f = test_k/N * fs\n",
    "\n",
    "ret = np.zeros((5,N,4001))\n",
    "\n",
    "for idx_f, f in enumerate(test_f):\n",
    "    #np.random.seed(55635)\n",
    "    for idx_m, method in enumerate(['fft','fht','fht_jitter','fht_ditter','fht_jitter_filter']):\n",
    "        usr_config.freq_transform_method.name = method\n",
    "        usr_config.signal.phases = [phi]\n",
    "        usr_config.signal.freqs = [f]\n",
    "\n",
    "        input_signal_generator = signal_generator.InputSignalGenerator(usr_config.signal, usr_config.noise)\n",
    "        input_signal, _ = input_signal_generator.get()\n",
    "        input_signal = input_signal[:npos:,:,:]\n",
    "        sqm, _ = transform_all(input_signal, usr_config.freq_transform_method, usr_config.signal)\n",
    "        sqm = sqm.mean(1)\n",
    "    \n",
    "        ret[idx_m, :, idx_f] = sqm[0]"
   ]
  },
  {
   "cell_type": "code",
   "execution_count": null,
   "metadata": {
    "pycharm": {
     "is_executing": true
    },
    "scrolled": false
   },
   "outputs": [],
   "source": [
    "bins = np.array([i for i in range(0,int(N/2))] + [i for i in range(int(N/2)+1, N)])\n",
    "for k in bins:\n",
    "    plt.figure(figsize=(10,5))\n",
    "    #plt.plot(test_f[0:int(len(test_f)/2)],ret[0, k, 0:int(len(test_f)/2)],label='DFT',)\n",
    "    #plt.plot(test_f[0:int(len(test_f)/2)],ret[2, k, 0:int(len(test_f)/2)],label='J-DHT')\n",
    "    plt.plot(np.linspace(0,np.pi,int(len(test_f)/2)),ret[0, k, 0:int(len(test_f)/2)],label='DFT',linewidth=2)\n",
    "    #plt.plot(np.linspace(0,np.pi,int(len(test_f)/2)),ret[2, k, 0:int(len(test_f)/2)],label='J-DHT',linewidth=2)\n",
    "    plt.plot(np.linspace(0,np.pi,int(len(test_f)/2)),ret[1, k, 0:int(len(test_f)/2)],label='DHT',linewidth=2)\n",
    "    plt.plot(np.linspace(0,np.pi,int(len(test_f)/2)),ret[3, k, 0:int(len(test_f)/2)],label='D-DHT',c='indigo', linewidth=2)\n",
    "    #plt.plot(test_f[0:int(len(test_f)/2)],ret[4, k, 0:int(len(test_f)/2)],label='FJ-DHT',c='indigo')\n",
    "    #plt.axvline(x=k*fs/N,c='k')\n",
    "    plt.legend(fontsize=15)\n",
    "    plt.grid()\n",
    "    #plt.title('k={}, N={}'.format(k,N),fontsize=15)\n",
    "    plt.tick_params(labelsize=15)\n",
    "    plt.xlabel('$\\omega_0$',fontsize=15)\n",
    "    plt.ylabel('Squared Magnitude',fontsize=15)\n",
    "    plt.ylim([-0.01, 0.5])\n",
    "    dirname = '../plots/jitter_response/phi_{}/N_{}'.format(phi,N)\n",
    "    if not os.path.exists(dirname):\n",
    "        os.makedirs(dirname)\n",
    "        \n",
    "    plt.savefig(os.path.join(dirname,'k_{}.pdf'.format(k)))"
   ]
  },
  {
   "cell_type": "code",
   "execution_count": null,
   "metadata": {
    "pycharm": {
     "is_executing": true
    }
   },
   "outputs": [],
   "source": [
    "plt.plot(ret[3, 6, 0:int(len(test_f)/2)])"
   ]
  },
  {
   "cell_type": "code",
   "execution_count": null,
   "metadata": {
    "pycharm": {
     "is_executing": true
    }
   },
   "outputs": [],
   "source": [
    "ret[2, :, 0:int(len(test_f)/2)].mean()"
   ]
  },
  {
   "cell_type": "code",
   "execution_count": null,
   "metadata": {
    "pycharm": {
     "is_executing": true
    }
   },
   "outputs": [],
   "source": [
    "ret[3, 6, 0:int(len(test_f)/2)][750]"
   ]
  },
  {
   "cell_type": "code",
   "execution_count": null,
   "metadata": {
    "pycharm": {
     "is_executing": true
    }
   },
   "outputs": [],
   "source": [
    "ret[2, :, 0:int(len(test_f)/2)].min()"
   ]
  },
  {
   "cell_type": "code",
   "execution_count": null,
   "metadata": {
    "pycharm": {
     "is_executing": true,
     "name": "#%%\n"
    }
   },
   "outputs": [],
   "source": []
  },
  {
   "cell_type": "code",
   "execution_count": null,
   "metadata": {
    "pycharm": {
     "is_executing": true
    }
   },
   "outputs": [],
   "source": []
  },
  {
   "cell_type": "code",
   "execution_count": null,
   "metadata": {
    "pycharm": {
     "is_executing": true
    }
   },
   "outputs": [],
   "source": []
  }
 ],
 "metadata": {
  "kernelspec": {
   "display_name": "Python 3",
   "language": "python",
   "name": "python3"
  },
  "language_info": {
   "codemirror_mode": {
    "name": "ipython",
    "version": 3
   },
   "file_extension": ".py",
   "mimetype": "text/x-python",
   "name": "python",
   "nbconvert_exporter": "python",
   "pygments_lexer": "ipython3",
   "version": "3.7.10"
  }
 },
 "nbformat": 4,
 "nbformat_minor": 4
}
