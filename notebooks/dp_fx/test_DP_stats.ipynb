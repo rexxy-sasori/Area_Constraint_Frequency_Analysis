{
 "cells": [
  {
   "cell_type": "code",
   "execution_count": 59,
   "metadata": {},
   "outputs": [],
   "source": [
    "import numpy as np\n",
    "#import matplotlib.pyplot as plt\n",
    "\n",
    "\n"
   ]
  },
  {
   "cell_type": "code",
   "execution_count": 90,
   "metadata": {},
   "outputs": [],
   "source": [
    "niter = 10000\n",
    "\n",
    "w = np.random.randint(3,size=128) - np.ones(128)\n",
    "E2_w = np.sum(np.square(w))\n",
    "\n",
    "S_st_p = np.zeros(niter)\n",
    "for i in range(niter):\n",
    "    inp = np.random.rand(128)\n",
    "    w = np.random.randint(3,size=128) - np.ones(128)\n",
    "    y = np.dot(w,inp)\n",
    "    S_st_p[i] = y*y\n",
    "    \n",
    "E2_inp = 0.33333\n",
    "#E2_inp = np.var(np.arange(16))\n",
    "#E2_w = np.mean(np.square([-1,0,1]))\n",
    "S_et_p = E2_inp*E2_w\n",
    "#S_et_p = E2_inp*E2_w*128\n",
    "S_st_pm = np.sum(S_st_p/niter)#-np.square(np.mean(S_st_p))"
   ]
  },
  {
   "cell_type": "code",
   "execution_count": 91,
   "metadata": {},
   "outputs": [
    {
     "name": "stdout",
     "output_type": "stream",
     "text": [
      "28.15537570020517\n",
      "25.999740000000003\n",
      "78.0\n",
      "0.33333\n"
     ]
    }
   ],
   "source": [
    "print(S_st_pm)\n",
    "print(S_et_p)\n",
    "print(E2_w)\n",
    "print(E2_inp)\n",
    "#print(S_st_p)"
   ]
  },
  {
   "cell_type": "code",
   "execution_count": null,
   "metadata": {
    "collapsed": true
   },
   "outputs": [],
   "source": []
  }
 ],
 "metadata": {
  "kernelspec": {
   "display_name": "Python 2",
   "language": "python",
   "name": "python2"
  },
  "language_info": {
   "codemirror_mode": {
    "name": "ipython",
    "version": 2
   },
   "file_extension": ".py",
   "mimetype": "text/x-python",
   "name": "python",
   "nbconvert_exporter": "python",
   "pygments_lexer": "ipython2",
   "version": "2.7.13"
  }
 },
 "nbformat": 4,
 "nbformat_minor": 2
}
